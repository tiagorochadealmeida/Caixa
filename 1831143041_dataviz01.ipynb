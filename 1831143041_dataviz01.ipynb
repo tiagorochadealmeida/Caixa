{
  "nbformat": 4,
  "nbformat_minor": 0,
  "metadata": {
    "colab": {
      "name": "Untitled0.ipynb",
      "version": "0.3.2",
      "provenance": [],
      "include_colab_link": true
    },
    "kernelspec": {
      "name": "python3",
      "display_name": "Python 3"
    }
  },
  "cells": [
    {
      "cell_type": "markdown",
      "metadata": {
        "id": "view-in-github",
        "colab_type": "text"
      },
      "source": [
        "<a href=\"https://colab.research.google.com/github/tiagorochadealmeida/Caixa/blob/master/1831143041_dataviz01.ipynb\" target=\"_parent\"><img src=\"https://colab.research.google.com/assets/colab-badge.svg\" alt=\"Open In Colab\"/></a>"
      ]
    },
    {
      "metadata": {
        "id": "_v5wA5qlrfuT",
        "colab_type": "code",
        "colab": {
          "base_uri": "https://localhost:8080/",
          "height": 281
        },
        "outputId": "d7ace4b9-ea76-451b-f07a-aef09604c2e7"
      },
      "cell_type": "code",
      "source": [
        "!pip install plotly"
      ],
      "execution_count": 12,
      "outputs": [
        {
          "output_type": "stream",
          "text": [
            "Requirement already satisfied: plotly in /usr/local/lib/python3.6/dist-packages (3.6.1)\n",
            "Requirement already satisfied: nbformat>=4.2 in /usr/local/lib/python3.6/dist-packages (from plotly) (4.4.0)\n",
            "Requirement already satisfied: pytz in /usr/local/lib/python3.6/dist-packages (from plotly) (2018.9)\n",
            "Requirement already satisfied: retrying>=1.3.3 in /usr/local/lib/python3.6/dist-packages (from plotly) (1.3.3)\n",
            "Requirement already satisfied: six in /usr/local/lib/python3.6/dist-packages (from plotly) (1.11.0)\n",
            "Requirement already satisfied: decorator>=4.0.6 in /usr/local/lib/python3.6/dist-packages (from plotly) (4.4.0)\n",
            "Requirement already satisfied: requests in /usr/local/lib/python3.6/dist-packages (from plotly) (2.18.4)\n",
            "Requirement already satisfied: jsonschema!=2.5.0,>=2.4 in /usr/local/lib/python3.6/dist-packages (from nbformat>=4.2->plotly) (2.6.0)\n",
            "Requirement already satisfied: ipython-genutils in /usr/local/lib/python3.6/dist-packages (from nbformat>=4.2->plotly) (0.2.0)\n",
            "Requirement already satisfied: traitlets>=4.1 in /usr/local/lib/python3.6/dist-packages (from nbformat>=4.2->plotly) (4.3.2)\n",
            "Requirement already satisfied: jupyter-core in /usr/local/lib/python3.6/dist-packages (from nbformat>=4.2->plotly) (4.4.0)\n",
            "Requirement already satisfied: certifi>=2017.4.17 in /usr/local/lib/python3.6/dist-packages (from requests->plotly) (2019.3.9)\n",
            "Requirement already satisfied: chardet<3.1.0,>=3.0.2 in /usr/local/lib/python3.6/dist-packages (from requests->plotly) (3.0.4)\n",
            "Requirement already satisfied: urllib3<1.23,>=1.21.1 in /usr/local/lib/python3.6/dist-packages (from requests->plotly) (1.22)\n",
            "Requirement already satisfied: idna<2.7,>=2.5 in /usr/local/lib/python3.6/dist-packages (from requests->plotly) (2.6)\n"
          ],
          "name": "stdout"
        }
      ]
    },
    {
      "metadata": {
        "id": "Nx-TbdaWqord",
        "colab_type": "code",
        "colab": {}
      },
      "cell_type": "code",
      "source": [
        "import plotly.plotly as py\n",
        "import pandas as pd\n",
        "import plotly.graph_objs as go"
      ],
      "execution_count": 0,
      "outputs": []
    },
    {
      "metadata": {
        "id": "T9xECyn2q34M",
        "colab_type": "code",
        "colab": {}
      },
      "cell_type": "code",
      "source": [
        "import plotly\n",
        "plotly.tools.set_credentials_file(username='tiagorochadealmeida', api_key='D1oqmJltoDSv4aU5LHkd')"
      ],
      "execution_count": 0,
      "outputs": []
    },
    {
      "metadata": {
        "id": "pgkYh0wJ1THn",
        "colab_type": "text"
      },
      "cell_type": "markdown",
      "source": [
        "https://towardsdatascience.com/downloading-datasets-into-google-drive-via-google-colab-bcb1b30b0166"
      ]
    },
    {
      "metadata": {
        "id": "ua5FQrLFtgZF",
        "colab_type": "code",
        "colab": {
          "base_uri": "https://localhost:8080/",
          "height": 210
        },
        "outputId": "be6d0f9d-4d91-4593-db5b-cec2d006881e"
      },
      "cell_type": "code",
      "source": [
        "!wget  http://www.transparencia.df.gov.br/gerenciador/arquivos/Remuneracao_2019.zip"
      ],
      "execution_count": 19,
      "outputs": [
        {
          "output_type": "stream",
          "text": [
            "--2019-03-22 00:17:38--  http://www.transparencia.df.gov.br/gerenciador/arquivos/Remuneracao_2019.zip\n",
            "Resolving www.transparencia.df.gov.br (www.transparencia.df.gov.br)... 131.72.221.205\n",
            "Connecting to www.transparencia.df.gov.br (www.transparencia.df.gov.br)|131.72.221.205|:80... connected.\n",
            "HTTP request sent, awaiting response... 200 OK\n",
            "Length: 5338931 (5.1M) [application/zip]\n",
            "Saving to: ‘Remuneracao_2019.zip.1’\n",
            "\n",
            "Remuneracao_2019.zi 100%[===================>]   5.09M  1.45MB/s    in 4.0s    \n",
            "\n",
            "2019-03-22 00:17:42 (1.28 MB/s) - ‘Remuneracao_2019.zip.1’ saved [5338931/5338931]\n",
            "\n"
          ],
          "name": "stdout"
        }
      ]
    },
    {
      "metadata": {
        "id": "1qRfpzUiwsP4",
        "colab_type": "code",
        "colab": {
          "base_uri": "https://localhost:8080/",
          "height": 34
        },
        "outputId": "d4fedd87-b986-4611-c5b1-a649d3d69490"
      },
      "cell_type": "code",
      "source": [
        "!ls"
      ],
      "execution_count": 20,
      "outputs": [
        {
          "output_type": "stream",
          "text": [
            "Remuneracao_2019.zip  Remuneracao_2019.zip.1  sample_data\n"
          ],
          "name": "stdout"
        }
      ]
    },
    {
      "metadata": {
        "id": "JTTZScISw4JY",
        "colab_type": "code",
        "colab": {
          "base_uri": "https://localhost:8080/",
          "height": 70
        },
        "outputId": "00169570-02fe-4beb-f18d-b782f85c00c5"
      },
      "cell_type": "code",
      "source": [
        "!unzip Remuneracao_2019.zip"
      ],
      "execution_count": 23,
      "outputs": [
        {
          "output_type": "stream",
          "text": [
            "Archive:  Remuneracao_2019.zip\n",
            "   creating: Remuneracao_2019/\n",
            "  inflating: Remuneracao_2019/Remuneracao_2019_01.csv  \n"
          ],
          "name": "stdout"
        }
      ]
    },
    {
      "metadata": {
        "id": "IiC9KJsC0IYL",
        "colab_type": "text"
      },
      "cell_type": "markdown",
      "source": [
        "https://stackoverflow.com/questions/19699367/unicodedecodeerror-utf-8-codec-cant-decode-byte"
      ]
    },
    {
      "metadata": {
        "id": "imhjcSzmxOpB",
        "colab_type": "code",
        "colab": {
          "base_uri": "https://localhost:8080/",
          "height": 279
        },
        "outputId": "c0a5b482-e3c5-4a0b-b25a-a6caa86e2a3a"
      },
      "cell_type": "code",
      "source": [
        "df=pd.read_csv(\"Remuneracao_2019/Remuneracao_2019_01.csv\", sep=';', encoding='latin-1')\n",
        "df=pd.DataFrame(df)\n",
        "df.head()"
      ],
      "execution_count": 30,
      "outputs": [
        {
          "output_type": "execute_result",
          "data": {
            "text/html": [
              "<div>\n",
              "<style scoped>\n",
              "    .dataframe tbody tr th:only-of-type {\n",
              "        vertical-align: middle;\n",
              "    }\n",
              "\n",
              "    .dataframe tbody tr th {\n",
              "        vertical-align: top;\n",
              "    }\n",
              "\n",
              "    .dataframe thead th {\n",
              "        text-align: right;\n",
              "    }\n",
              "</style>\n",
              "<table border=\"1\" class=\"dataframe\">\n",
              "  <thead>\n",
              "    <tr style=\"text-align: right;\">\n",
              "      <th></th>\n",
              "      <th>NOME</th>\n",
              "      <th>CPF_FORMATADO</th>\n",
              "      <th>DC_EMPRESA</th>\n",
              "      <th>DC_CARGO</th>\n",
              "      <th>DC_FUNCAO</th>\n",
              "      <th>DC_GRUPO_SITFUNC</th>\n",
              "      <th>CO_MES_REFERENCIA</th>\n",
              "      <th>CO_EXERCICIO</th>\n",
              "      <th>VL_LIQUIDO</th>\n",
              "    </tr>\n",
              "  </thead>\n",
              "  <tbody>\n",
              "    <tr>\n",
              "      <th>0</th>\n",
              "      <td>GENILSON FIGUEIREDO DE OLIVEIRA               ...</td>\n",
              "      <td>***546611**</td>\n",
              "      <td>SECRETARIA DE ESTADO DE SEGURANCA PUBLICA DO D...</td>\n",
              "      <td></td>\n",
              "      <td>DIRETOR                                       ...</td>\n",
              "      <td>ATIVO</td>\n",
              "      <td>1</td>\n",
              "      <td>2019</td>\n",
              "      <td>2884,90</td>\n",
              "    </tr>\n",
              "    <tr>\n",
              "      <th>1</th>\n",
              "      <td>SOLANGE RIBEIRO DA SILVA                      ...</td>\n",
              "      <td>***678751**</td>\n",
              "      <td>SECRETARIA DE ESTADO DE SEGURANCA PUBLICA DO D...</td>\n",
              "      <td></td>\n",
              "      <td>COORDENADOR                                   ...</td>\n",
              "      <td>ATIVO</td>\n",
              "      <td>1</td>\n",
              "      <td>2019</td>\n",
              "      <td>3344,24</td>\n",
              "    </tr>\n",
              "    <tr>\n",
              "      <th>2</th>\n",
              "      <td>RODRIGO BATISTA DE ALBUQUERQUE                ...</td>\n",
              "      <td>***392691**</td>\n",
              "      <td>SECRETARIA DE ESTADO DE SEGURANCA PUBLICA DO D...</td>\n",
              "      <td>AGENTE ATIV. PENITENCIARIAS</td>\n",
              "      <td>...</td>\n",
              "      <td>ATIVO</td>\n",
              "      <td>1</td>\n",
              "      <td>2019</td>\n",
              "      <td>5877,00</td>\n",
              "    </tr>\n",
              "    <tr>\n",
              "      <th>3</th>\n",
              "      <td>PAULO HENRIQUE LEITE FERREIRA                 ...</td>\n",
              "      <td>***864951**</td>\n",
              "      <td>SECRETARIA DE ESTADO DE SEGURANCA PUBLICA DO D...</td>\n",
              "      <td></td>\n",
              "      <td>GERENTE                                       ...</td>\n",
              "      <td>ATIVO</td>\n",
              "      <td>1</td>\n",
              "      <td>2019</td>\n",
              "      <td>2435,13</td>\n",
              "    </tr>\n",
              "    <tr>\n",
              "      <th>4</th>\n",
              "      <td>KATHRYN GOMES DE MORAIS                       ...</td>\n",
              "      <td>***854181**</td>\n",
              "      <td>SECRETARIA DE ESTADO DE SEGURANCA PUBLICA DO D...</td>\n",
              "      <td>AGENTE ATIV. PENITENCIARIAS</td>\n",
              "      <td>...</td>\n",
              "      <td>ATIVO</td>\n",
              "      <td>1</td>\n",
              "      <td>2019</td>\n",
              "      <td>5487,62</td>\n",
              "    </tr>\n",
              "  </tbody>\n",
              "</table>\n",
              "</div>"
            ],
            "text/plain": [
              "                                                NOME CPF_FORMATADO  \\\n",
              "0  GENILSON FIGUEIREDO DE OLIVEIRA               ...   ***546611**   \n",
              "1  SOLANGE RIBEIRO DA SILVA                      ...   ***678751**   \n",
              "2  RODRIGO BATISTA DE ALBUQUERQUE                ...   ***392691**   \n",
              "3  PAULO HENRIQUE LEITE FERREIRA                 ...   ***864951**   \n",
              "4  KATHRYN GOMES DE MORAIS                       ...   ***854181**   \n",
              "\n",
              "                                          DC_EMPRESA  \\\n",
              "0  SECRETARIA DE ESTADO DE SEGURANCA PUBLICA DO D...   \n",
              "1  SECRETARIA DE ESTADO DE SEGURANCA PUBLICA DO D...   \n",
              "2  SECRETARIA DE ESTADO DE SEGURANCA PUBLICA DO D...   \n",
              "3  SECRETARIA DE ESTADO DE SEGURANCA PUBLICA DO D...   \n",
              "4  SECRETARIA DE ESTADO DE SEGURANCA PUBLICA DO D...   \n",
              "\n",
              "                         DC_CARGO  \\\n",
              "0                                   \n",
              "1                                   \n",
              "2  AGENTE ATIV. PENITENCIARIAS      \n",
              "3                                   \n",
              "4  AGENTE ATIV. PENITENCIARIAS      \n",
              "\n",
              "                                           DC_FUNCAO  \\\n",
              "0  DIRETOR                                       ...   \n",
              "1  COORDENADOR                                   ...   \n",
              "2                                                ...   \n",
              "3  GERENTE                                       ...   \n",
              "4                                                ...   \n",
              "\n",
              "                 DC_GRUPO_SITFUNC  CO_MES_REFERENCIA  CO_EXERCICIO VL_LIQUIDO  \n",
              "0  ATIVO                                           1          2019    2884,90  \n",
              "1  ATIVO                                           1          2019    3344,24  \n",
              "2  ATIVO                                           1          2019    5877,00  \n",
              "3  ATIVO                                           1          2019    2435,13  \n",
              "4  ATIVO                                           1          2019    5487,62  "
            ]
          },
          "metadata": {
            "tags": []
          },
          "execution_count": 30
        }
      ]
    },
    {
      "metadata": {
        "id": "1cAh3pzWyIUt",
        "colab_type": "code",
        "colab": {
          "base_uri": "https://localhost:8080/",
          "height": 34
        },
        "outputId": "fa1d8e57-5456-468f-c3c4-d65b286d839b"
      },
      "cell_type": "code",
      "source": [
        "print('Essa base de dados contém {} registros'.format(df.shape[0]))"
      ],
      "execution_count": 31,
      "outputs": [
        {
          "output_type": "stream",
          "text": [
            "Essa base de dados contém 218434 registros\n"
          ],
          "name": "stdout"
        }
      ]
    },
    {
      "metadata": {
        "id": "iqY21WDBzoFN",
        "colab_type": "code",
        "colab": {}
      },
      "cell_type": "code",
      "source": [
        ""
      ],
      "execution_count": 0,
      "outputs": []
    }
  ]
}